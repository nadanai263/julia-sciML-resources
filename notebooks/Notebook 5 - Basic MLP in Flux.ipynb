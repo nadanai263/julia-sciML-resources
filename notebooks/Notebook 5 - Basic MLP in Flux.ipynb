{
 "cells": [
  {
   "cell_type": "code",
   "execution_count": 6,
   "metadata": {},
   "outputs": [
    {
     "data": {
      "text/plain": [
       "Plots.PyPlotBackend()"
      ]
     },
     "execution_count": 6,
     "metadata": {},
     "output_type": "execute_result"
    }
   ],
   "source": [
    "using Flux\n",
    "using Flux.Optimise: update!\n",
    "using MLDatasets\n",
    "using Flux: Chain, Dense, onecold, logitcrossentropy, @epochs\n",
    "using Plots\n",
    "pyplot()"
   ]
  },
  {
   "cell_type": "code",
   "execution_count": 2,
   "metadata": {},
   "outputs": [
    {
     "data": {
      "text/plain": [
       "accuracy (generic function with 1 method)"
      ]
     },
     "execution_count": 2,
     "metadata": {},
     "output_type": "execute_result"
    }
   ],
   "source": [
    "# Get MNIST data\n",
    "xtrain, ytrain = MLDatasets.MNIST.traindata(Float32)\n",
    "xtest, ytest = MLDatasets.MNIST.testdata(Float32)\n",
    "\n",
    "# Reshape Data for flatten the each image into linear array\n",
    "xtrain = Flux.flatten(xtrain)\n",
    "xtest = Flux.flatten(xtest)\n",
    "\n",
    "# One-hot-encode the labels\n",
    "ytrain, ytest = Flux.onehotbatch(ytrain, 0:9), Flux.onehotbatch(ytest, 0:9)\n",
    "\n",
    "function getbatcheddata(xtrain,ytrain,xtest,ytest)\n",
    "    train_data = Flux.Data.DataLoader(xtrain,ytrain,batchsize=1024,shuffle=true)\n",
    "    test_data = Flux.Data.DataLoader(xtest,ytest,batchsize=1024)\n",
    "    return train_data, test_data\n",
    "end\n",
    "\n",
    "# Loss function for minibatch\n",
    "function loss_all(data,model)\n",
    "    l = 0f0\n",
    "    for (x,y) in data\n",
    "        l += logitcrossentropy(model(x),y) # calculate loss and sum\n",
    "    end\n",
    "    l/length(data) # return length-normalised loss\n",
    "end\n",
    "\n",
    "# Accuracy function\n",
    "function accuracy(data,model)\n",
    "    acc = 0\n",
    "    for (x,y) in data\n",
    "        acc += sum(onecold(model(x)) .== onecold(y))*1 / size(x,2)\n",
    "    end\n",
    "    acc/length(data)\n",
    "end"
   ]
  },
  {
   "cell_type": "code",
   "execution_count": 3,
   "metadata": {},
   "outputs": [
    {
     "data": {
      "text/plain": [
       "ADAM(0.0003, (0.9, 0.999), IdDict{Any,Any}())"
      ]
     },
     "execution_count": 3,
     "metadata": {},
     "output_type": "execute_result"
    }
   ],
   "source": [
    "# Build model\n",
    "imgsize=(28,28,1)\n",
    "nclasses=10\n",
    "m = Chain(Dense(prod(imgsize),32,relu), Dense(32,nclasses))\n",
    "\n",
    "train_data, test_data = getbatcheddata(xtrain,ytrain,xtest,ytest) # Data is now mini-batched ready for training\n",
    "loss(x,y) = logitcrossentropy(m(x),y) # loss for individual x,y pair\n",
    "ps = Flux.params(m)\n",
    "\n",
    "opt = ADAM(3e-4)"
   ]
  },
  {
   "cell_type": "code",
   "execution_count": 4,
   "metadata": {},
   "outputs": [
    {
     "name": "stderr",
     "output_type": "stream",
     "text": [
      "┌ Info: Epoch 1\n",
      "└ @ Main /home/nadanai/.julia/packages/Flux/Fj3bt/src/optimise/train.jl:121\n"
     ]
    },
    {
     "name": "stdout",
     "output_type": "stream",
     "text": [
      "(loss_all(train_data, m), accuracy(train_data, m)) = (2.0690076f0, 0.2931821824821588)\n",
      "(loss_all(train_data, m), accuracy(train_data, m)) = (1.7870922f0, 0.5037154674955397)\n"
     ]
    },
    {
     "name": "stderr",
     "output_type": "stream",
     "text": [
      "┌ Info: Epoch 2\n",
      "└ @ Main /home/nadanai/.julia/packages/Flux/Fj3bt/src/optimise/train.jl:121\n"
     ]
    },
    {
     "name": "stdout",
     "output_type": "stream",
     "text": [
      "(loss_all(train_data, m), accuracy(train_data, m)) = (1.4824492f0, 0.6518846523751116)\n",
      "(loss_all(train_data, m), accuracy(train_data, m)) = (1.2196748f0, 0.7456956330842998)\n",
      "(loss_all(train_data, m), accuracy(train_data, m)) = (1.016813f0, 0.7936848377564675)\n"
     ]
    }
   ],
   "source": [
    "# Either use built-in train function\n",
    "iter = 0\n",
    "cb2 = function ()\n",
    "    global iter +=1\n",
    "    if iter%20 == 0\n",
    "        @show (loss_all(train_data,m), accuracy(train_data,m))\n",
    "    end\n",
    "end\n",
    "loss_all(train_data,m) # Show initial loss\n",
    "@epochs 2 Flux.train!(loss,ps, train_data, opt; cb = cb2) # Train! loops over 2 epochs using macro"
   ]
  },
  {
   "cell_type": "code",
   "execution_count": 5,
   "metadata": {},
   "outputs": [
    {
     "name": "stdout",
     "output_type": "stream",
     "text": [
      "(ls, ac) = (0.6317831f0, 0.8568721774643177)\n",
      "(ls, ac) = (0.51444775f0, 0.8763529005909901)\n",
      "(ls, ac) = (0.4486862f0, 0.8870811496431757)\n",
      "(ls, ac) = (0.40665758f0, 0.89658804220562)\n",
      "(ls, ac) = (0.37745816f0, 0.9013096914027654)\n",
      "(ls, ac) = (0.35542804f0, 0.9063963537020517)\n",
      "(ls, ac) = (0.3379923f0, 0.9092249874553969)\n",
      "(ls, ac) = (0.3241243f0, 0.9113410180642284)\n",
      "(ls, ac) = (0.3128132f0, 0.9144884938113291)\n",
      "(ls, ac) = (0.3029168f0, 0.916959954839429)\n"
     ]
    }
   ],
   "source": [
    "# Or use custom train loop\n",
    "\n",
    "function my_custom_train!(loss,ps,data,opt)\n",
    "    local training_loss#\n",
    "    iter = 0\n",
    "    for d in data # Train for one epoch\n",
    "        iter+=1\n",
    "        gs = gradient(ps) do\n",
    "            training_loss = loss(d...)\n",
    "            return training_loss\n",
    "        end\n",
    "#        @show iter, training_loss\n",
    "        update!(opt,ps,gs)\n",
    "    end\n",
    "    return loss_all(train_data,m), accuracy(train_data,m)\n",
    "end\n",
    "\n",
    "# Then train for multiple epochs\n",
    "num_epochs = 10\n",
    "for i in 1:num_epochs\n",
    "    ls,ac = my_custom_train!(loss,ps,train_data,opt)\n",
    "    @show ls,ac\n",
    "end"
   ]
  },
  {
   "cell_type": "code",
   "execution_count": 16,
   "metadata": {},
   "outputs": [
    {
     "name": "stdout",
     "output_type": "stream",
     "text": [
      "predict = onecold(m(example)) - 1 = 7\n"
     ]
    },
    {
     "data": {
      "image/png": "[encoded data removed]"
     },
     "execution_count": 16,
     "metadata": {},
     "output_type": "execute_result"
    }
   ],
   "source": [
    "# Make prediction\n",
    "example = xtest[:,1]\n",
    "@show predict = (onecold(m(example))-1)\n",
    "img = reshape(example,(28,28))\n",
    "fig = plot(size=(250,250))\n",
    "heatmap!(img,aspect_ratio=:equal,cb=:false)"
   ]
  },
  {
   "cell_type": "code",
   "execution_count": null,
   "metadata": {},
   "outputs": [],
   "source": [
    "# Test accuracy\n",
    "accuracy(test_data,m)"
   ]
  },
  {
   "cell_type": "code",
   "execution_count": null,
   "metadata": {},
   "outputs": [],
   "source": []
  }
 ],
 "metadata": {
  "kernelspec": {
   "display_name": "Julia 1.4.2",
   "language": "julia",
   "name": "julia-1.4"
  },
  "language_info": {
   "file_extension": ".jl",
   "mimetype": "application/julia",
   "name": "julia",
   "version": "1.4.2"
  }
 },
 "nbformat": 4,
 "nbformat_minor": 4
}
